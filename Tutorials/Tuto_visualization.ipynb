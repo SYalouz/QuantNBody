{
 "cells": [
  {
   "cell_type": "markdown",
   "id": "3d5ae8a5",
   "metadata": {
    "slideshow": {
     "slide_type": "slide"
    }
   },
   "source": [
    "# *QuantNbody* tutorials : visualization\n",
    "\n",
    "**Chiari Even**\n",
    "\n",
    "**Laboratoire de Chimie Quantique de Strasbourg, France**\n",
    "\n",
    "**September 2024**"
   ]
  },
  {
   "cell_type": "markdown",
   "id": "4888eb48",
   "metadata": {
    "slideshow": {
     "slide_type": "slide"
    }
   },
   "source": [
    "In this QuantNBody tutorial, we will explore a graphical method to visualize wavefunctions, which can be used to study them or compare them with excited states.\n",
    "\n",
    "We refer users to the other tutorials to learn how to create many-body Hamiltonians and model systems. Here, we will focus on demonstrating how to use the plotting functions of the QuantNBody package."
   ]
  },
  {
   "cell_type": "code",
   "execution_count": 1,
   "id": "4ab32d7c",
   "metadata": {},
   "outputs": [],
   "source": [
    "import numpy as np\n",
    "import matplotlib.pyplot as plt\n",
    "import scipy.sparse.linalg as la\n",
    "import quantnbody.fermionic.tools as qnbft\n",
    "import quantnbody.hybrid_fermionic_bosonic.tools as qnbhbft\n",
    "import quantnbody.bosonic.tools as qnbbt\n",
    "\n",
    "\n"
   ]
  },
  {
   "cell_type": "markdown",
   "id": "708a0483",
   "metadata": {
    "slideshow": {
     "slide_type": "subslide"
    }
   },
   "source": [
    "## Plot a single wavefunction"
   ]
  },
  {
   "cell_type": "markdown",
   "id": "b7bc2ac2",
   "metadata": {},
   "source": [
    "To study a wavefunction, we generally focus on the most important coefficients. In the figure below, we plot the ground state of a Fermi-Hubbard Hamiltonian with 3 molecular orbitals containing up to 4 electrons :"
   ]
  },
  {
   "cell_type": "code",
   "execution_count": null,
   "id": "6b5c50f8",
   "metadata": {},
   "outputs": [],
   "source": [
    "\n",
    "# Parameters for the simulation\n",
    "nelec_active = 4  # Number of active electrons in the Active-Space  \n",
    "n_mo = 3  # Number of molecular orbitals  \n",
    "\n",
    "# Build the many-body basis and operator for the simulation\n",
    "nbody_basis_ferm =qnbft.build_nbody_basis(n_mo, nelec_active)                      \n",
    "a_dagger_a =qnbft.build_operator_a_dagger_a(nbody_basis_ferm)\n",
    "\n",
    "# Hopping terms for the Hamiltonian\n",
    "h_MO = np.zeros((n_mo, n_mo))\n",
    "for site in range(n_mo - 1): \n",
    "    h_MO[site, site + 1] = h_MO[site + 1, site] = 1\n",
    "\n",
    "# Interaction terms (U_MO) for the Hamiltonian with U = 0\n",
    "list_U = [0]  # List of interaction strengths (U)\n",
    "for U in list_U: \n",
    "    U_MO = np.zeros((n_mo, n_mo, n_mo, n_mo))\n",
    "    for site in range(n_mo):\n",
    "        U_MO[site, site, site, site] = U\n",
    "    \n",
    "\n",
    "# Build the Hamiltonian and solve for eigenvalues and eigenvectors\n",
    "H = qnbft.build_hamiltonian_fermi_hubbard(h_MO, U_MO, nbody_basis_ferm, a_dagger_a)\n",
    "eig_en, eig_vec = la.eigsh(H.A)  # Solve for the lowest eigenstates\n",
    "    \n",
    "# Plot the wavefunctions with a cutoff for small coefficients\n",
    "WFT_ferm = eig_vec[:,:]\n",
    "qnbft.visualize_wft(WFT_ferm[:,0], nbody_basis_ferm)\n",
    "qnbft.plot_wavefunctions(WFT_ferm, nbody_basis_ferm, list_states=[0], probability=False, cutoff=0.075)\n",
    "\n",
    "\n",
    "\n"
   ]
  },
  {
   "cell_type": "markdown",
   "id": "acfadd1b",
   "metadata": {
    "slideshow": {
     "slide_type": "slide"
    }
   },
   "source": [
    "## Plot multiple wavefunctions\n",
    "    \n"
   ]
  },
  {
   "cell_type": "markdown",
   "id": "3438cffa",
   "metadata": {},
   "source": [
    "To compare two or more states, we can plot them simultaneously by specifying the states in the argument list_index=[0,1,2]."
   ]
  },
  {
   "cell_type": "code",
   "execution_count": null,
   "id": "93adc6c5",
   "metadata": {
    "slideshow": {
     "slide_type": "subslide"
    }
   },
   "outputs": [],
   "source": [
    "\n",
    "qnbft.visualize_wft(WFT_ferm[:,0], nbody_basis_ferm,cutoff=0.3)\n",
    "\n",
    "\n",
    "qnbft.plot_wavefunctions(WFT_ferm, nbody_basis_ferm, list_states=[0,1,2], probability=False, cutoff=0.3)\n",
    "\n"
   ]
  },
  {
   "cell_type": "markdown",
   "id": "a8870621",
   "metadata": {},
   "source": [
    "## Bosonic systems\n"
   ]
  },
  {
   "cell_type": "markdown",
   "id": "f868a498",
   "metadata": {},
   "source": [
    "The function works exactly the same for bosonic systems; we just need to give a wavefunction of a bosonic system. Below, we show the wavefunction both in written form and as a plot for the Bose-Hubbard Hamiltonian with 3 modes containing up to 3 bosons."
   ]
  },
  {
   "cell_type": "code",
   "execution_count": null,
   "id": "90a52247",
   "metadata": {},
   "outputs": [],
   "source": [
    "n_mode  = 3 # Number of modes\n",
    "n_boson = 4 # Number of bosons\n",
    "\n",
    "# Building the one-body tensor in a general extended basis\n",
    "h_tensor = np.zeros(( n_mode, n_mode )) \n",
    "for site in range(n_mode): \n",
    "    for site_ in range(n_mode):\n",
    "        if (site != site_): \n",
    "            h_tensor[site,site_] = h_tensor[site_,site] = -1 # <== a lattice fully connected with a same hopping term\n",
    "            \n",
    "# Building the two-body tensor in a general extended basis\n",
    "U_tensor  = np.zeros(( n_mode, n_mode, n_mode, n_mode )) \n",
    "for site in range(n_mode):\n",
    "    U_tensor[ site, site, site, site ]  = - 10.1 # <=== Local on-site attraction of the bosons\n",
    "    \n",
    "\n",
    "# Building the many-body basis\n",
    "nbodybasis_bos = qnbbt.build_nbody_basis( n_mode, n_boson )   \n",
    "\n",
    "# Building the a†a operators\n",
    "a_dagger_a = qnbbt.build_operator_a_dagger_a( nbodybasis_bos )  \n",
    "\n",
    "# Building the matrix representation of the Hamiltonian operators \n",
    "Hamiltonian = qnbbt.build_hamiltonian_bose_hubbard( h_tensor,\n",
    "                                                                U_tensor,\n",
    "                                                                nbodybasis_bos,\n",
    "                                                                a_dagger_a ) \n",
    "eig_en, eig_vec = la.eigsh( Hamiltonian.A) \n",
    "\n",
    "WFT_bos = eig_vec[:,:]\n",
    "\n",
    "qnbbt.visualize_wft(WFT_bos[:,0],nbodybasis_bos,cutoff=0.3)\n",
    "\n",
    "qnbbt.plot_wavefunctions(WFT_bos,nbodybasis_bos, list_states=[0,1,3], probability=False, cutoff=0.3)"
   ]
  },
  {
   "cell_type": "markdown",
   "id": "9ac43236",
   "metadata": {},
   "source": [
    "## Extension to hybrid systems\n",
    "\n",
    " "
   ]
  },
  {
   "cell_type": "code",
   "execution_count": null,
   "id": "1721c0e3",
   "metadata": {},
   "outputs": [],
   "source": [
    "\n",
    "# ======================================\n",
    "N_elec = 2  # Number of fermions\n",
    "N_MO = 2    # Number of molecular orbitals\n",
    "\n",
    "# ======================================\n",
    "# Define the bosonic system\n",
    "# ======================================\n",
    "N_b_max = 3  # Max bosons in the system\n",
    "N_mode = 2   # Number of bosonic modes\n",
    "list_bosons = list(range(N_b_max + 1))  # Possible boson counts per mode\n",
    "\n",
    "# ==============================================\n",
    "# Build the hybrid many-body basis and operators\n",
    "# ==============================================\n",
    "# Construct the basis and operators\n",
    "nbody_basis_hyb = qnbhbft.build_nbody_basis(N_mode, list_bosons, N_MO, N_elec)\n",
    "a_dagger_a = qnbhbft.build_fermion_operator_a_dagger_a(nbody_basis_hyb, N_mode)\n",
    "b = qnbhbft.build_boson_anihilation_operator_b(nbody_basis_hyb, N_mode)\n",
    "b_dag = [op.T for op in b]  # Hermitian conjugate of bosonic creation operators\n",
    "\n",
    "# Define parameters\n",
    "t_val, U_val, omega_val, lambda_val = 0.5, 1, 0.95, 0.08\n",
    "Coupling_fermion_boson = [lambda_val] * N_mode\n",
    "\n",
    "# Fermionic Hamiltonian\n",
    "t_ = np.zeros((N_MO, N_MO))\n",
    "U_ = np.zeros((N_MO, N_MO, N_MO, N_MO))\n",
    "np.fill_diagonal(U_, U_val)\n",
    "np.fill_diagonal(t_[1:], -t_val)  # Hopping constants\n",
    "\n",
    "# ====================================\n",
    "# Bosonic and interaction Hamiltonian\n",
    "# ====================================\n",
    "omega_values = [omega_val] * N_mode\n",
    "h_boson = np.diag(omega_values)\n",
    "\n",
    "# Build the Holstein Hamiltonian\n",
    "H_Holstein = qnbhbft.build_hamiltonian_hubbard_holstein(\n",
    "    t_, U_, a_dagger_a, h_boson, b, Coupling_fermion_boson, nbody_basis_hyb\n",
    ")\n",
    "\n",
    "eig_energies, eig_vectors = np.linalg.eigh(H_Holstein.A)\n",
    "\n",
    "WFT_hyb= eig_vectors[:, :]\n",
    "\n",
    "# Visualize and plot wavefunctions\n",
    "qnbhbft.visualize_wft(WFT_hyb[:,0], nbody_basis_hyb, N_mode, cutoff=0.10)\n",
    "qnbhbft.plot_wavefunctions(WFT_hyb, nbody_basis_hyb, N_mode, list_states=[0, 1, 2], probability=False, cutoff=0.10)\n"
   ]
  },
  {
   "cell_type": "markdown",
   "id": "e07f4259",
   "metadata": {},
   "source": [
    "## Optional arguments & Fine-Tunning"
   ]
  },
  {
   "cell_type": "markdown",
   "id": "b272235f",
   "metadata": {},
   "source": [
    "Multiple optional arguments are provided in the function to give the user good accessibility to arrange the plot as they want. They will be detailed in this section:\n",
    "\n",
    "### \"List_states\"\n",
    "This argument allows the user to choose the state to plot by specifying the index of the state, e.g., 0 for the ground state, 1 for the first excited state, etc.\n",
    "\n",
    "### \"probability\"\n",
    "Currently, the coefficients of each state are plotted, but the user can choose to plot the probability of the state. The state is given by:\n",
    "\n",
    "$$ |\\Psi_0 \\rangle = \\sum_i c_i |\\phi_i \\rangle $$\n",
    "\n",
    "The probability amplitude of state $i$ is:\n",
    "\n",
    "$$ |\\langle \\phi_i |\\Psi_0 \\rangle|^2 = | c_i |^2 $$\n",
    "\n",
    "\n",
    "\n",
    "An example is shown below with the previous hybrid system:"
   ]
  },
  {
   "cell_type": "code",
   "execution_count": null,
   "id": "3a48193c",
   "metadata": {},
   "outputs": [],
   "source": [
    "qnbhbft.plot_wavefunctions(WFT_hyb, nbody_basis_hyb,N_mode, list_states=[0], probability=True, cutoff=0.10)\n",
    "\n"
   ]
  },
  {
   "cell_type": "markdown",
   "id": "0e814581",
   "metadata": {},
   "source": [
    "### \"cutoff\"\n",
    "To maintain tidiness, the user can choose to plot only the most important states by setting a cutoff value. Only states with values greater than the cutoff will be plotted.\n",
    "\n",
    "### \"label_props\"\n",
    "The size of all labels can be manually adjusted with this parameter. The first element adjusts the size of the bar labels and can be set to \"x-small\", \"small\", \"medium\", \"large\", \"x-large\", or \"xx-large\". The second and third elements adjust the size of the x-axis title and tick labels, respectively."
   ]
  },
  {
   "cell_type": "markdown",
   "id": "b3b9bedc",
   "metadata": {},
   "source": [
    "### \"Compact\"\n",
    "\n",
    "The user can get a compact notation for the fermionic state for the numerical print and the graphical plot of the wavefunction. This can be done by setting the argument \"compact\" to True. \n",
    "Instead of writing all the orbital occupancies by \"1\" if an electron is present and by \"0\" if it is absent, we only keep the occupied orbitals and specify them by their index. For example,\n",
    "\n",
    "\n",
    "$$ |01001011\\rangle \\xrightarrow{} |\\overline{1}3 4 \\overline{4} \\rangle  $$\n",
    "\n",
    "means the third and fourth spin-alpha orbitals are occupied, while the first and fourth spin-beta orbitals are occupied (indicated by the bar over the index). The second orbital is omitted from the notation since no electron is present in it.\n",
    "\n",
    "\n",
    "This compact notation is particularly useful for both fermionic and hybrid systems, as it simplifies the representation of fermionic states and allows for more readable outputs in terminal and plotting environments.\n",
    "\n",
    "\n"
   ]
  },
  {
   "cell_type": "code",
   "execution_count": null,
   "id": "8fe68384",
   "metadata": {},
   "outputs": [],
   "source": [
    "qnbft.visualize_wft(WFT_ferm[:,0], nbody_basis_ferm, cutoff=0.255, compact=False)\n",
    "\n",
    "qnbft.visualize_wft(WFT_ferm[:,0], nbody_basis_ferm, cutoff=0.255, compact=True)\n",
    "\n",
    "\n",
    "\n",
    "qnbft.plot_wavefunctions(WFT_ferm, nbody_basis_ferm,\n",
    "                           probability=False,\n",
    "                        cutoff=0.10,\n",
    "                        compact=True\n",
    "                        )\n",
    "qnbhbft.plot_wavefunctions(WFT_hyb, nbody_basis_hyb,N_mode,\n",
    "                           probability=False,\n",
    "                        cutoff=0.10,\n",
    "                        compact=True\n",
    "                        )\n",
    "\n"
   ]
  }
 ],
 "metadata": {
  "author": "mes",
  "celltoolbar": "Diaporama",
  "kernelspec": {
   "display_name": "Python 3 (ipykernel)",
   "language": "python",
   "name": "python3"
  },
  "language_info": {
   "codemirror_mode": {
    "name": "ipython",
    "version": 3
   },
   "file_extension": ".py",
   "mimetype": "text/x-python",
   "name": "python",
   "nbconvert_exporter": "python",
   "pygments_lexer": "ipython3",
   "version": "3.12.2"
  },
  "latex_envs": {
   "LaTeX_envs_menu_present": true,
   "autoclose": false,
   "autocomplete": false,
   "bibliofile": "biblio.bib",
   "cite_by": "apalike",
   "current_citInitial": 1,
   "eqLabelWithNumbers": true,
   "eqNumInitial": 1,
   "hotkeys": {
    "equation": "meta-e"
   },
   "labels_anchors": true,
   "latex_user_defs": false,
   "report_style_numbering": true,
   "user_envs_cfg": true
  },
  "toc": {
   "base_numbering": 1,
   "nav_menu": {},
   "number_sections": true,
   "sideBar": true,
   "skip_h1_title": true,
   "title_cell": "Table of Contents",
   "title_sidebar": "Contents",
   "toc_cell": false,
   "toc_position": {
    "height": "calc(100% - 180px)",
    "left": "10px",
    "top": "150px",
    "width": "348.438px"
   },
   "toc_section_display": true,
   "toc_window_display": true
  }
 },
 "nbformat": 4,
 "nbformat_minor": 5
}
